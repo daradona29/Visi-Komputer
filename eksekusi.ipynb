{
 "cells": [
  {
   "cell_type": "code",
   "execution_count": 40,
   "metadata": {},
   "outputs": [],
   "source": [
    "import tensorflow as tf\n",
    "from tensorflow.keras import layers, models\n",
    "from tensorflow.keras.preprocessing.image import ImageDataGenerator\n",
    "import matplotlib.pyplot as plt\n",
    "import matplotlib.image as mpimg"
   ]
  },
  {
   "cell_type": "code",
   "execution_count": 41,
   "metadata": {},
   "outputs": [],
   "source": [
    "#definisi model CNN\n",
    "\n",
    "model = models.Sequential()\n",
    "\n",
    "model.add(layers.Conv2D(32, (3, 3), activation='relu', input_shape=(224, 224, 3)))\n",
    "model.add(layers.MaxPooling2D((2, 2)))\n",
    "\n",
    "model.add(layers.Conv2D(64, (3, 3), activation='relu'))\n",
    "model.add(layers.MaxPooling2D((2, 2)))\n",
    "\n",
    "model.add(layers.Conv2D(128, (3, 3), activation='relu'))\n",
    "model.add(layers.MaxPooling2D((2, 2)))\n",
    "\n",
    "model.add(layers.Flatten())\n",
    "model.add(layers.Dense(128, activation='relu'))\n",
    "model.add(layers.Dense(4, activation='softmax'))\n"
   ]
  },
  {
   "cell_type": "code",
   "execution_count": 42,
   "metadata": {},
   "outputs": [],
   "source": [
    "model.compile(optimizer='adam',\n",
    "              loss='categorical_crossentropy',\n",
    "              metrics=['accuracy'])\n"
   ]
  },
  {
   "cell_type": "code",
   "execution_count": 43,
   "metadata": {},
   "outputs": [],
   "source": [
    "#inisialisasi ImageDataGenerator untuk pelatihan dan validasi\n",
    "\n",
    "train_datagen = ImageDataGenerator(\n",
    "    rescale=1./255,\n",
    "    shear_range=0.2,\n",
    "    zoom_range=0.2,\n",
    "    horizontal_flip=True)\n",
    "\n",
    "test_datagen = ImageDataGenerator(rescale=1./255)\n"
   ]
  },
  {
   "cell_type": "code",
   "execution_count": 44,
   "metadata": {},
   "outputs": [
    {
     "name": "stdout",
     "output_type": "stream",
     "text": [
      "Found 1125 images belonging to 4 classes.\n",
      "Found 1125 images belonging to 4 classes.\n"
     ]
    }
   ],
   "source": [
    "#definisi generator untuk pelatihan dan validasi\n",
    "\n",
    "train_generator = train_datagen.flow_from_directory(\n",
    "    './train/',\n",
    "    target_size=(224, 224),\n",
    "    batch_size=1,\n",
    "    class_mode='categorical')\n",
    "\n",
    "validation_generator = test_datagen.flow_from_directory(\n",
    "    './test/',\n",
    "    target_size=(224, 224),\n",
    "    batch_size=1,\n",
    "    class_mode='categorical')\n"
   ]
  },
  {
   "cell_type": "code",
   "execution_count": 45,
   "metadata": {},
   "outputs": [],
   "source": [
    "#hitung langkah pelatihan dan validasi\n",
    "\n",
    "train_steps = train_generator.samples // train_generator.batch_size\n",
    "validation_steps = validation_generator.samples // validation_generator.batch_size"
   ]
  },
  {
   "cell_type": "code",
   "execution_count": 46,
   "metadata": {},
   "outputs": [
    {
     "name": "stderr",
     "output_type": "stream",
     "text": [
      "C:\\Users\\stude\\AppData\\Local\\Temp\\ipykernel_7704\\3976166571.py:3: UserWarning: `Model.fit_generator` is deprecated and will be removed in a future version. Please use `Model.fit`, which supports generators.\n",
      "  model.fit_generator(\n"
     ]
    },
    {
     "name": "stdout",
     "output_type": "stream",
     "text": [
      "1125/1125 [==============================] - 1339s 1s/step - loss: 0.9215 - accuracy: 0.6364 - val_loss: 0.9040 - val_accuracy: 0.6169\n"
     ]
    },
    {
     "data": {
      "text/plain": [
       "<keras.src.callbacks.History at 0x27d43aff0d0>"
      ]
     },
     "execution_count": 46,
     "metadata": {},
     "output_type": "execute_result"
    }
   ],
   "source": [
    "#melatih model\n",
    "\n",
    "model.fit_generator(\n",
    "    train_generator,\n",
    "    #steps_per_epoch=112.5,\n",
    "    epochs=1,\n",
    "    validation_data=validation_generator,\n",
    "    #validation_steps=112.5\n",
    ")\n"
   ]
  },
  {
   "cell_type": "code",
   "execution_count": 58,
   "metadata": {},
   "outputs": [],
   "source": [
    "image_path = './test/Sunrise/sunrise203.jpg'\n",
    "\n",
    "# Memuat gambar\n",
    "img = mpimg.imread(image_path)\n",
    "\n",
    "# Menampilkan gambar\n",
    "plt.imshow(img)\n",
    "plt.axis('off')\n",
    "plt.show()"
   ]
  },
  {
   "cell_type": "code",
   "execution_count": 54,
   "metadata": {},
   "outputs": [
    {
     "name": "stderr",
     "output_type": "stream",
     "text": [
      "C:\\Users\\stude\\AppData\\Local\\Temp\\ipykernel_7704\\1940087920.py:1: UserWarning: `Model.evaluate_generator` is deprecated and will be removed in a future version. Please use `Model.evaluate`, which supports generators.\n",
      "  test_loss, test_acc = model.evaluate_generator(validation_generator, steps=validation_steps)\n"
     ]
    },
    {
     "name": "stdout",
     "output_type": "stream",
     "text": [
      "Validation accuracy: 0.6168888807296753\n"
     ]
    }
   ],
   "source": [
    "test_loss, test_acc = model.evaluate_generator(validation_generator, steps=validation_steps)\n",
    "print(f'Validation accuracy: {test_acc}')\n",
    "\n",
    "\n",
    "# Prediksi pada suatu gambar (gantilah 'path/to/your/image.jpg' dengan path gambar yang sesuai)\n",
    "\n",
    "image = tf.keras.preprocessing.image.load_img(image_path, target_size=(224, 224))\n",
    "image_array = tf.keras.preprocessing.image.img_to_array(image)\n",
    "image_array = tf.expand_dims(image_array, 0)\n",
    "predictions = model.predict(image_array)\n",
    "\n",
    "# Menampilkan hasil prediksi\n",
    "class_labels = ['Cloudy', 'Rain', 'Shine', 'Sunrise']  # Sesuaikan dengan label kelas Anda\n",
    "predicted_class = class_labels[predictions.argmax()]\n",
    "\n",
    "print(f'Predicted class: {predicted_class}')\n",
    "print(f'Predictions: {predictions}')"
   ]
  }
 ],
 "metadata": {
  "kernelspec": {
   "display_name": "modsim",
   "language": "python",
   "name": "python3"
  },
  "language_info": {
   "codemirror_mode": {
    "name": "ipython",
    "version": 3
   },
   "file_extension": ".py",
   "mimetype": "text/x-python",
   "name": "python",
   "nbconvert_exporter": "python",
   "pygments_lexer": "ipython3",
   "version": "3.11.2"
  }
 },
 "nbformat": 4,
 "nbformat_minor": 2
}
